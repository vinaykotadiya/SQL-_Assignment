{
 "cells": [
  {
   "cell_type": "markdown",
   "metadata": {},
   "source": [
    "# Remove Tables if Exists"
   ]
  },
  {
   "cell_type": "code",
   "execution_count": 1,
   "metadata": {},
   "outputs": [],
   "source": [
    "import sqlite3\n",
    "\n",
    "# Connect to SQLite database\n",
    "conn = sqlite3.connect('events.db')\n",
    "cursor = conn.cursor()\n",
    "\n",
    "# Drop the tables if they exist\n",
    "cursor.execute('''\n",
    "DROP TABLE IF EXISTS Event;\n",
    "''')\n",
    "\n",
    "cursor.execute('''\n",
    "DROP TABLE IF EXISTS People;\n",
    "''')\n",
    "\n",
    "cursor.execute('''\n",
    "DROP TABLE IF EXISTS Event_Participants;\n",
    "''')\n",
    "\n",
    "# Commit the changes and close the connection\n",
    "conn.commit()"
   ]
  },
  {
   "cell_type": "markdown",
   "metadata": {},
   "source": [
    "# Table Creation"
   ]
  },
  {
   "cell_type": "code",
   "execution_count": 2,
   "metadata": {},
   "outputs": [],
   "source": [
    "\n",
    "# Create the Event Table with at least 7 columns\n",
    "cursor.execute('''\n",
    "CREATE TABLE IF NOT EXISTS Event (\n",
    "    EventID INTEGER PRIMARY KEY AUTOINCREMENT,\n",
    "    EventName TEXT NOT NULL,\n",
    "    EventDate DATE NOT NULL,\n",
    "    Location TEXT,\n",
    "    Duration INTEGER,  -- Duration in hours\n",
    "    Category TEXT,     -- Type of event (e.g., conference, concert)\n",
    "    Organizer TEXT     -- Event organizer's name or company\n",
    ");\n",
    "''')\n",
    "\n",
    "# Create the People Table\n",
    "cursor.execute('''\n",
    "CREATE TABLE IF NOT EXISTS People (\n",
    "    PersonID INTEGER PRIMARY KEY AUTOINCREMENT,\n",
    "    FirstName TEXT NOT NULL,\n",
    "    LastName TEXT NOT NULL,\n",
    "    Gender TEXT NOT NULL,\n",
    "    Age INTEGER,      -- Age of the person\n",
    "    Email TEXT,       -- Email address\n",
    "    PhoneNumber TEXT  -- Contact number\n",
    ");\n",
    "''')\n",
    "\n",
    "# Create the Event_Participants Table (linking People and Event)\n",
    "cursor.execute('''\n",
    "CREATE TABLE IF NOT EXISTS Event_Participants (\n",
    "    EventID INTEGER,\n",
    "    PersonID INTEGER,\n",
    "    Role TEXT,        -- Role of the person in the event (e.g., speaker, attendee)\n",
    "    FOREIGN KEY (EventID) REFERENCES Event (EventID),\n",
    "    FOREIGN KEY (PersonID) REFERENCES People (PersonID),\n",
    "    PRIMARY KEY (EventID, PersonID)\n",
    ");\n",
    "''')\n",
    "\n",
    "# Commit the changes and close the connection\n",
    "conn.commit()\n"
   ]
  },
  {
   "cell_type": "markdown",
   "metadata": {},
   "source": [
    "# Inserting data into Event Table"
   ]
  },
  {
   "cell_type": "code",
   "execution_count": 3,
   "metadata": {},
   "outputs": [],
   "source": [
    "import pandas as pd\n",
    "import random\n",
    "from datetime import datetime, timedelta\n",
    "\n",
    "# Load the CSV data into a DataFrame\n",
    "df = pd.read_csv('random_name.csv')\n",
    "\n",
    "\n",
    "\n",
    "# Generate sample event data based on the CSV data\n",
    "event_names = ['Tech Conference', 'Music Festival', 'Art Exhibition', 'Business Seminar']\n",
    "locations = ['Berlin', 'London', 'Paris', 'Munich']\n",
    "categories = ['Conference', 'Festival', 'Seminar', 'Exhibition']\n",
    "organizers = ['TechCorp', 'MusicEvents', 'ArtWorld', 'GlobalBusiness']\n",
    "start_date = datetime(2025, 1, 1)\n",
    "\n",
    "# Insert Event data based on CSV file entries\n",
    "for index, row in df.iterrows():\n",
    "    # Generate unique event data for each entry in the CSV\n",
    "    event_name = random.choice(event_names)\n",
    "    event_date = start_date + timedelta(days=random.randint(0, 365))  # Random date within a year\n",
    "    location = random.choice(locations)\n",
    "    duration = random.randint(1, 8)  # Random duration in hours\n",
    "    category = random.choice(categories)\n",
    "    organizer = random.choice(organizers)\n",
    "    \n",
    "    cursor.execute('''\n",
    "    INSERT INTO Event (EventName, EventDate, Location, Duration, Category, Organizer)\n",
    "    VALUES (?, ?, ?, ?, ?, ?)\n",
    "    ''', (event_name, event_date.strftime('%Y-%m-%d'), location, duration, category, organizer))\n",
    "\n",
    "# Commit the changes and close the connection\n",
    "conn.commit()\n"
   ]
  },
  {
   "cell_type": "markdown",
   "metadata": {},
   "source": [
    "# Inserting Data Into People table"
   ]
  },
  {
   "cell_type": "code",
   "execution_count": 4,
   "metadata": {},
   "outputs": [],
   "source": [
    "\n",
    "# Insert random data for the People table\n",
    "for index, row in df.iterrows():\n",
    "    first_name = row['First Name']\n",
    "    last_name = row['Last Name']\n",
    "    gender = row['Gender']\n",
    "    people_count = row['People']  # The number of people associated with the person\n",
    "\n",
    "    # Random age between 18 and 70\n",
    "    age = random.randint(18, 70)\n",
    "    \n",
    "    # Generate a random email address using the person's name\n",
    "    email = f\"{first_name.lower()}.{last_name.lower()}@example.com\"\n",
    "    \n",
    "    # Generate a random 10-digit phone number (e.g., 555-123-4567)\n",
    "    phone_number = f\"555-{random.randint(100, 999)}-{random.randint(1000, 9999)}\"\n",
    "    \n",
    "    # Insert the data into the People table\n",
    "    cursor.execute('''\n",
    "    INSERT INTO People (FirstName, LastName, Gender, Age, Email, PhoneNumber)\n",
    "    VALUES (?, ?, ?, ?, ?, ?)\n",
    "    ''', (first_name, last_name, gender, age, email, phone_number))\n",
    "\n",
    "# Commit the changes and close the connection\n",
    "conn.commit()\n",
    "\n"
   ]
  },
  {
   "cell_type": "markdown",
   "metadata": {},
   "source": [
    "# Inserting Data Into Event_participants table"
   ]
  },
  {
   "cell_type": "code",
   "execution_count": 5,
   "metadata": {},
   "outputs": [],
   "source": [
    "\n",
    "# Fetch all EventIDs from the Event table\n",
    "cursor.execute('SELECT EventID FROM Event')\n",
    "event_ids = cursor.fetchall()\n",
    "\n",
    "# Fetch all PersonIDs from the People table\n",
    "cursor.execute('SELECT PersonID FROM People')\n",
    "person_ids = cursor.fetchall()\n",
    "\n",
    "# Set a limit for the number of records to insert (3000 to 4000)\n",
    "record_limit = random.randint(3000, 4000)\n",
    "\n",
    "# Ensure we insert no more than the record limit\n",
    "inserted_records = 0\n",
    "while inserted_records < record_limit:\n",
    "    # Randomly select an EventID and PersonID\n",
    "    event_id = random.choice(event_ids)[0]\n",
    "    person_id = random.choice(person_ids)[0]\n",
    "    \n",
    "    # Randomly assign a role of 'Attendee' or 'Speaker'\n",
    "    role = random.choice(['Attendee', 'Speaker'])\n",
    "    \n",
    "    # Check if the combination of EventID and PersonID already exists\n",
    "    cursor.execute('''\n",
    "    SELECT 1 FROM Event_Participants WHERE EventID = ? AND PersonID = ?\n",
    "    ''', (event_id, person_id))\n",
    "    \n",
    "    existing_record = cursor.fetchone()\n",
    "    \n",
    "    # If the combination does not exist, insert the new record\n",
    "    if existing_record is None:\n",
    "        cursor.execute('''\n",
    "        INSERT INTO Event_Participants (EventID, PersonID, Role)\n",
    "        VALUES (?, ?, ?)\n",
    "        ''', (event_id, person_id, role))\n",
    "        \n",
    "        # Increment the count of inserted records\n",
    "        inserted_records += 1\n",
    "\n",
    "# Commit the changes and close the connection\n",
    "conn.commit()\n",
    "conn.close()\n"
   ]
  },
  {
   "cell_type": "code",
   "execution_count": 7,
   "metadata": {},
   "outputs": [],
   "source": [
    "conn.close()"
   ]
  }
 ],
 "metadata": {
  "kernelspec": {
   "display_name": "base",
   "language": "python",
   "name": "python3"
  },
  "language_info": {
   "codemirror_mode": {
    "name": "ipython",
    "version": 3
   },
   "file_extension": ".py",
   "mimetype": "text/x-python",
   "name": "python",
   "nbconvert_exporter": "python",
   "pygments_lexer": "ipython3",
   "version": "3.12.7"
  }
 },
 "nbformat": 4,
 "nbformat_minor": 2
}
